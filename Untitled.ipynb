{
 "cells": [
  {
   "cell_type": "code",
   "execution_count": 1,
   "id": "c15f01e9-428c-417f-a4fe-b578321e52f0",
   "metadata": {},
   "outputs": [],
   "source": [
    "\n",
    "import ipywidgets as widgets\n",
    "from IPython.display import display\n",
    "from PIL import Image\n",
    "import io\n",
    "from ipywidgets import VBox\n",
    "from fastai.vision.all import *\n",
    "import fastbook\n",
    "fastbook.setup_book()"
   ]
  },
  {
   "cell_type": "code",
   "execution_count": 2,
   "id": "e7775049-9929-4477-8bce-6bda1d519404",
   "metadata": {},
   "outputs": [],
   "source": [
    "learn = load_learner('my_cats_model_1.pkl')"
   ]
  },
  {
   "cell_type": "code",
   "execution_count": 3,
   "id": "67d622ba-f250-4795-b2c9-6a902edb07e0",
   "metadata": {},
   "outputs": [],
   "source": [
    "img = None"
   ]
  },
  {
   "cell_type": "code",
   "execution_count": 4,
   "id": "02a3ff63-60fa-4e3b-8181-baaf8b9542ca",
   "metadata": {},
   "outputs": [],
   "source": [
    "#hide_output\n",
    "btn_upload = widgets.FileUpload()\n"
   ]
  },
  {
   "cell_type": "code",
   "execution_count": 5,
   "id": "7d31313c-6372-4a97-9dcc-1792ea887e2e",
   "metadata": {},
   "outputs": [],
   "source": [
    "#hide_output\n",
    "out_pl = widgets.Output()\n"
   ]
  },
  {
   "cell_type": "code",
   "execution_count": 6,
   "id": "6695a6c3-ff23-4c77-8be0-1d9932abcd5a",
   "metadata": {},
   "outputs": [],
   "source": [
    "def on_upload_change(change):\n",
    "    global img\n",
    "    with out_pl:\n",
    "        print(\"Upload change detected\")\n",
    "        # Extract the uploaded file's data\n",
    "        for file_info in btn_upload.value:\n",
    "            try:\n",
    "                # Load the image data into a PIL Image\n",
    "                img = Image.open(io.BytesIO(file_info['content']))\n",
    "                print(\"Image loaded successfully\")\n",
    "                \n",
    "                # Clear previous output and display the new image\n",
    "                out_pl.clear_output(wait=True)\n",
    "                display(img.to_thumb(128, 128))\n",
    "                print(\"Image displayed successfully\")\n",
    "            except Exception as e:\n",
    "                print(f\"Error loading image: {e}\")\n",
    "\n",
    "btn_upload.observe(on_upload_change, names='value')"
   ]
  },
  {
   "cell_type": "code",
   "execution_count": 7,
   "id": "e44671a9-8e02-4b3c-b369-b3819c31358b",
   "metadata": {},
   "outputs": [],
   "source": [
    "lbl_pred = widgets.Label()\n"
   ]
  },
  {
   "cell_type": "code",
   "execution_count": 8,
   "id": "ae6d872f-6103-4612-88c6-81ef705ea5db",
   "metadata": {},
   "outputs": [],
   "source": [
    "#hide_output\n",
    "btn_run = widgets.Button(description='Classify')\n"
   ]
  },
  {
   "cell_type": "code",
   "execution_count": 9,
   "id": "72c64175-95cb-4ade-8b99-d55dee44c69c",
   "metadata": {},
   "outputs": [],
   "source": [
    "def on_click_classify(change):\n",
    "    pred,pred_idx,probs = learn.predict(img)\n",
    "    lbl_pred.value = f'Prediction: {pred}; Probability: {probs[pred_idx]:.04f}'\n",
    " \n",
    "    \n",
    "btn_run.on_click(on_click_classify)"
   ]
  },
  {
   "cell_type": "code",
   "execution_count": 10,
   "id": "6c5c5043-d83c-488d-bd84-d85c78f64a08",
   "metadata": {},
   "outputs": [
    {
     "data": {
      "application/vnd.jupyter.widget-view+json": {
       "model_id": "4934b8f56f4e48f189706ebef50be955",
       "version_major": 2,
       "version_minor": 0
      },
      "text/plain": [
       "VBox(children=(Label(value='Khvosty!'), FileUpload(value=(), description='Upload'), Button(description='Classi…"
      ]
     },
     "execution_count": 10,
     "metadata": {},
     "output_type": "execute_result"
    }
   ],
   "source": [
    "VBox([widgets.Label('Khvosty!'), \n",
    "      btn_upload, btn_run, out_pl, lbl_pred])"
   ]
  }
 ],
 "metadata": {
  "kernelspec": {
   "display_name": "Python 3 (ipykernel)",
   "language": "python",
   "name": "python3"
  },
  "language_info": {
   "codemirror_mode": {
    "name": "ipython",
    "version": 3
   },
   "file_extension": ".py",
   "mimetype": "text/x-python",
   "name": "python",
   "nbconvert_exporter": "python",
   "pygments_lexer": "ipython3",
   "version": "3.9.18"
  }
 },
 "nbformat": 4,
 "nbformat_minor": 5
}
